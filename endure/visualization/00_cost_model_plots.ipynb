{
 "cells": [
  {
   "cell_type": "code",
   "execution_count": 1,
   "id": "9e1ab0d2",
   "metadata": {
    "ExecuteTime": {
     "end_time": "2021-07-01T02:09:12.689243Z",
     "start_time": "2021-07-01T02:09:11.734162Z"
    }
   },
   "outputs": [],
   "source": [
    "%matplotlib inline\n",
    "\n",
    "import sys\n",
    "import os\n",
    "import logging\n",
    "import ast\n",
    "\n",
    "import numpy as np\n",
    "import pandas as pd\n",
    "pd.set_option('max_columns', None)\n",
    "pd.set_option('max_rows', 50)\n",
    "pd.set_option('display.max_colwidth', None)\n",
    "from scipy import stats\n",
    "import scipy\n",
    "\n",
    "import seaborn as sns\n",
    "import matplotlib as mpl\n",
    "import matplotlib.pyplot as plt\n",
    "import matplotlib.ticker as mtick\n",
    "import matplotlib.patches as mpatches\n",
    "from matplotlib.patches import Patch\n",
    "sns.set(style='ticks')"
   ]
  },
  {
   "cell_type": "markdown",
   "id": "8083ebb0",
   "metadata": {},
   "source": [
    "## Read data"
   ]
  },
  {
   "cell_type": "code",
   "execution_count": 2,
   "id": "fb7d0970",
   "metadata": {
    "ExecuteTime": {
     "end_time": "2021-07-01T02:09:12.770372Z",
     "start_time": "2021-07-01T02:09:12.691876Z"
    }
   },
   "outputs": [],
   "source": [
    "sys.path.insert(1, '/scratchNVM0/ndhuynh/robust-lsm-tuning/endure')\n",
    "from data.data_provider import DataProvider\n",
    "from data.data_exporter import DataExporter\n",
    "\n",
    "config = DataProvider.read_config('/scratchNVM0/ndhuynh/robust-lsm-tuning/endure/config/robust-lsm-trees.yaml')\n",
    "de = DataExporter(config)"
   ]
  },
  {
   "cell_type": "code",
   "execution_count": 5,
   "id": "ffdb137f",
   "metadata": {
    "ExecuteTime": {
     "end_time": "2021-07-01T02:09:29.242731Z",
     "start_time": "2021-07-01T02:09:12.772977Z"
    }
   },
   "outputs": [],
   "source": [
    "dp = DataProvider(config)\n",
    "df_og = dp.read_csv('archive/exp_01_1e7.csv')\n",
    "df_og['robust_cost'] = np.around(df_og['robust_cost'], 4)\n",
    "df_og['nominal_cost'] = np.around(df_og['nominal_cost'], 4)\n",
    "df_og['robust_throughput'] = 1 / df_og['robust_cost']\n",
    "df_og['nominal_throughput'] = 1 / df_og['nominal_cost']\n",
    "df_og['delta_throughput'] = (df_og['robust_throughput'] - df_og['nominal_throughput']) / df_og['nominal_throughput']\n",
    "df_og['robust_rho'] = np.around(df_og['robust_rho'], 2)\n",
    "df_og['delta_rho'] = df_og['robust_rho'] - df_og['rho_hat']"
   ]
  },
  {
   "cell_type": "code",
   "execution_count": 6,
   "id": "4c969e2d",
   "metadata": {
    "ExecuteTime": {
     "end_time": "2021-07-01T02:09:31.779143Z",
     "start_time": "2021-07-01T02:09:29.245464Z"
    },
    "scrolled": true
   },
   "outputs": [
    {
     "data": {
      "text/html": [
       "<div>\n",
       "<style scoped>\n",
       "    .dataframe tbody tr th:only-of-type {\n",
       "        vertical-align: middle;\n",
       "    }\n",
       "\n",
       "    .dataframe tbody tr th {\n",
       "        vertical-align: top;\n",
       "    }\n",
       "\n",
       "    .dataframe thead th {\n",
       "        text-align: right;\n",
       "    }\n",
       "</style>\n",
       "<table border=\"1\" class=\"dataframe\">\n",
       "  <thead>\n",
       "    <tr style=\"text-align: right;\">\n",
       "      <th></th>\n",
       "      <th>workload_idx</th>\n",
       "      <th>N</th>\n",
       "      <th>M</th>\n",
       "      <th>robust_rho</th>\n",
       "      <th>robust_m_filt</th>\n",
       "      <th>robust_T</th>\n",
       "      <th>robust_exit_mode</th>\n",
       "      <th>nominal_m_filt</th>\n",
       "      <th>nominal_T</th>\n",
       "      <th>rho_hat</th>\n",
       "      <th>sample_idx</th>\n",
       "      <th>nominal_cost</th>\n",
       "      <th>robust_cost</th>\n",
       "      <th>robust_throughput</th>\n",
       "      <th>nominal_throughput</th>\n",
       "      <th>delta_throughput</th>\n",
       "      <th>delta_rho</th>\n",
       "    </tr>\n",
       "  </thead>\n",
       "  <tbody>\n",
       "    <tr>\n",
       "      <th>count</th>\n",
       "      <td>2.880000e+06</td>\n",
       "      <td>2880000.0</td>\n",
       "      <td>2880000.0</td>\n",
       "      <td>2.880000e+06</td>\n",
       "      <td>2.880000e+06</td>\n",
       "      <td>2.880000e+06</td>\n",
       "      <td>2880000.0</td>\n",
       "      <td>2.880000e+06</td>\n",
       "      <td>2.880000e+06</td>\n",
       "      <td>2.880000e+06</td>\n",
       "      <td>2.880000e+06</td>\n",
       "      <td>2.880000e+06</td>\n",
       "      <td>2.880000e+06</td>\n",
       "      <td>2.880000e+06</td>\n",
       "      <td>2.880000e+06</td>\n",
       "      <td>2.880000e+06</td>\n",
       "      <td>2.880000e+06</td>\n",
       "    </tr>\n",
       "    <tr>\n",
       "      <th>mean</th>\n",
       "      <td>8.500000e+00</td>\n",
       "      <td>10000000.0</td>\n",
       "      <td>100000000.0</td>\n",
       "      <td>1.875000e+00</td>\n",
       "      <td>1.518624e+07</td>\n",
       "      <td>6.065275e+00</td>\n",
       "      <td>0.0</td>\n",
       "      <td>4.513477e+07</td>\n",
       "      <td>2.036188e+01</td>\n",
       "      <td>1.370811e+00</td>\n",
       "      <td>4.999500e+03</td>\n",
       "      <td>5.433077e+00</td>\n",
       "      <td>2.849841e+00</td>\n",
       "      <td>3.846881e-01</td>\n",
       "      <td>2.846043e-01</td>\n",
       "      <td>9.023589e-01</td>\n",
       "      <td>5.041894e-01</td>\n",
       "    </tr>\n",
       "    <tr>\n",
       "      <th>std</th>\n",
       "      <td>5.188128e+00</td>\n",
       "      <td>0.0</td>\n",
       "      <td>0.0</td>\n",
       "      <td>1.152443e+00</td>\n",
       "      <td>1.284851e+07</td>\n",
       "      <td>7.901540e+00</td>\n",
       "      <td>0.0</td>\n",
       "      <td>3.107868e+07</td>\n",
       "      <td>2.728602e+01</td>\n",
       "      <td>8.458692e-01</td>\n",
       "      <td>2.886752e+03</td>\n",
       "      <td>4.021572e+00</td>\n",
       "      <td>1.389064e+00</td>\n",
       "      <td>1.052872e-01</td>\n",
       "      <td>1.801187e-01</td>\n",
       "      <td>1.233778e+00</td>\n",
       "      <td>1.429552e+00</td>\n",
       "    </tr>\n",
       "    <tr>\n",
       "      <th>min</th>\n",
       "      <td>0.000000e+00</td>\n",
       "      <td>10000000.0</td>\n",
       "      <td>100000000.0</td>\n",
       "      <td>0.000000e+00</td>\n",
       "      <td>1.000000e+07</td>\n",
       "      <td>2.000000e+00</td>\n",
       "      <td>0.0</td>\n",
       "      <td>0.000000e+00</td>\n",
       "      <td>2.347467e+00</td>\n",
       "      <td>1.330878e-04</td>\n",
       "      <td>0.000000e+00</td>\n",
       "      <td>2.731000e-01</td>\n",
       "      <td>2.730000e-01</td>\n",
       "      <td>2.411894e-02</td>\n",
       "      <td>2.891210e-02</td>\n",
       "      <td>-9.033710e-01</td>\n",
       "      <td>-4.330997e+00</td>\n",
       "    </tr>\n",
       "    <tr>\n",
       "      <th>25%</th>\n",
       "      <td>4.000000e+00</td>\n",
       "      <td>10000000.0</td>\n",
       "      <td>100000000.0</td>\n",
       "      <td>9.375000e-01</td>\n",
       "      <td>1.000000e+07</td>\n",
       "      <td>4.660179e+00</td>\n",
       "      <td>0.0</td>\n",
       "      <td>2.529270e+07</td>\n",
       "      <td>5.166275e+00</td>\n",
       "      <td>6.975509e-01</td>\n",
       "      <td>2.499750e+03</td>\n",
       "      <td>2.642000e+00</td>\n",
       "      <td>2.334000e+00</td>\n",
       "      <td>3.248757e-01</td>\n",
       "      <td>1.304023e-01</td>\n",
       "      <td>1.885513e-02</td>\n",
       "      <td>-5.224609e-01</td>\n",
       "    </tr>\n",
       "    <tr>\n",
       "      <th>50%</th>\n",
       "      <td>8.500000e+00</td>\n",
       "      <td>10000000.0</td>\n",
       "      <td>100000000.0</td>\n",
       "      <td>1.875000e+00</td>\n",
       "      <td>1.000000e+07</td>\n",
       "      <td>4.998932e+00</td>\n",
       "      <td>0.0</td>\n",
       "      <td>4.506375e+07</td>\n",
       "      <td>5.884243e+00</td>\n",
       "      <td>1.300226e+00</td>\n",
       "      <td>4.999500e+03</td>\n",
       "      <td>3.542500e+00</td>\n",
       "      <td>2.695700e+00</td>\n",
       "      <td>3.709612e-01</td>\n",
       "      <td>2.822865e-01</td>\n",
       "      <td>2.007406e-01</td>\n",
       "      <td>5.055457e-01</td>\n",
       "    </tr>\n",
       "    <tr>\n",
       "      <th>75%</th>\n",
       "      <td>1.300000e+01</td>\n",
       "      <td>10000000.0</td>\n",
       "      <td>100000000.0</td>\n",
       "      <td>2.812500e+00</td>\n",
       "      <td>1.000000e+07</td>\n",
       "      <td>5.129537e+00</td>\n",
       "      <td>0.0</td>\n",
       "      <td>7.627896e+07</td>\n",
       "      <td>1.643897e+01</td>\n",
       "      <td>1.927153e+00</td>\n",
       "      <td>7.499250e+03</td>\n",
       "      <td>7.668575e+00</td>\n",
       "      <td>3.078100e+00</td>\n",
       "      <td>4.284490e-01</td>\n",
       "      <td>3.785011e-01</td>\n",
       "      <td>1.663163e+00</td>\n",
       "      <td>1.581084e+00</td>\n",
       "    </tr>\n",
       "    <tr>\n",
       "      <th>max</th>\n",
       "      <td>1.700000e+01</td>\n",
       "      <td>10000000.0</td>\n",
       "      <td>100000000.0</td>\n",
       "      <td>3.750000e+00</td>\n",
       "      <td>8.883849e+07</td>\n",
       "      <td>1.000000e+02</td>\n",
       "      <td>0.0</td>\n",
       "      <td>8.892605e+07</td>\n",
       "      <td>1.000000e+02</td>\n",
       "      <td>4.330997e+00</td>\n",
       "      <td>9.999000e+03</td>\n",
       "      <td>3.458760e+01</td>\n",
       "      <td>4.146120e+01</td>\n",
       "      <td>3.663004e+00</td>\n",
       "      <td>3.661662e+00</td>\n",
       "      <td>7.546844e+00</td>\n",
       "      <td>3.749867e+00</td>\n",
       "    </tr>\n",
       "  </tbody>\n",
       "</table>\n",
       "</div>"
      ],
      "text/plain": [
       "       workload_idx           N            M    robust_rho  robust_m_filt  \\\n",
       "count  2.880000e+06   2880000.0    2880000.0  2.880000e+06   2.880000e+06   \n",
       "mean   8.500000e+00  10000000.0  100000000.0  1.875000e+00   1.518624e+07   \n",
       "std    5.188128e+00         0.0          0.0  1.152443e+00   1.284851e+07   \n",
       "min    0.000000e+00  10000000.0  100000000.0  0.000000e+00   1.000000e+07   \n",
       "25%    4.000000e+00  10000000.0  100000000.0  9.375000e-01   1.000000e+07   \n",
       "50%    8.500000e+00  10000000.0  100000000.0  1.875000e+00   1.000000e+07   \n",
       "75%    1.300000e+01  10000000.0  100000000.0  2.812500e+00   1.000000e+07   \n",
       "max    1.700000e+01  10000000.0  100000000.0  3.750000e+00   8.883849e+07   \n",
       "\n",
       "           robust_T  robust_exit_mode  nominal_m_filt     nominal_T  \\\n",
       "count  2.880000e+06         2880000.0    2.880000e+06  2.880000e+06   \n",
       "mean   6.065275e+00               0.0    4.513477e+07  2.036188e+01   \n",
       "std    7.901540e+00               0.0    3.107868e+07  2.728602e+01   \n",
       "min    2.000000e+00               0.0    0.000000e+00  2.347467e+00   \n",
       "25%    4.660179e+00               0.0    2.529270e+07  5.166275e+00   \n",
       "50%    4.998932e+00               0.0    4.506375e+07  5.884243e+00   \n",
       "75%    5.129537e+00               0.0    7.627896e+07  1.643897e+01   \n",
       "max    1.000000e+02               0.0    8.892605e+07  1.000000e+02   \n",
       "\n",
       "            rho_hat    sample_idx  nominal_cost   robust_cost  \\\n",
       "count  2.880000e+06  2.880000e+06  2.880000e+06  2.880000e+06   \n",
       "mean   1.370811e+00  4.999500e+03  5.433077e+00  2.849841e+00   \n",
       "std    8.458692e-01  2.886752e+03  4.021572e+00  1.389064e+00   \n",
       "min    1.330878e-04  0.000000e+00  2.731000e-01  2.730000e-01   \n",
       "25%    6.975509e-01  2.499750e+03  2.642000e+00  2.334000e+00   \n",
       "50%    1.300226e+00  4.999500e+03  3.542500e+00  2.695700e+00   \n",
       "75%    1.927153e+00  7.499250e+03  7.668575e+00  3.078100e+00   \n",
       "max    4.330997e+00  9.999000e+03  3.458760e+01  4.146120e+01   \n",
       "\n",
       "       robust_throughput  nominal_throughput  delta_throughput     delta_rho  \n",
       "count       2.880000e+06        2.880000e+06      2.880000e+06  2.880000e+06  \n",
       "mean        3.846881e-01        2.846043e-01      9.023589e-01  5.041894e-01  \n",
       "std         1.052872e-01        1.801187e-01      1.233778e+00  1.429552e+00  \n",
       "min         2.411894e-02        2.891210e-02     -9.033710e-01 -4.330997e+00  \n",
       "25%         3.248757e-01        1.304023e-01      1.885513e-02 -5.224609e-01  \n",
       "50%         3.709612e-01        2.822865e-01      2.007406e-01  5.055457e-01  \n",
       "75%         4.284490e-01        3.785011e-01      1.663163e+00  1.581084e+00  \n",
       "max         3.663004e+00        3.661662e+00      7.546844e+00  3.749867e+00  "
      ]
     },
     "execution_count": 6,
     "metadata": {},
     "output_type": "execute_result"
    }
   ],
   "source": [
    "expected_bits_per_element = 10\n",
    "df = df_og[df_og['M'] == expected_bits_per_element * df_og['N']]\n",
    "df.describe()"
   ]
  },
  {
   "cell_type": "markdown",
   "id": "53909203",
   "metadata": {},
   "source": [
    "## Visualization Directory"
   ]
  },
  {
   "cell_type": "code",
   "execution_count": 7,
   "id": "7878c90c",
   "metadata": {
    "ExecuteTime": {
     "end_time": "2021-07-01T02:09:31.810197Z",
     "start_time": "2021-07-01T02:09:31.782421Z"
    }
   },
   "outputs": [],
   "source": [
    "VIZ_DIR = \"/scratchNVM0/ndhuynh/data/figs/\""
   ]
  },
  {
   "cell_type": "code",
   "execution_count": 8,
   "id": "4a2ebf0f",
   "metadata": {
    "ExecuteTime": {
     "end_time": "2021-07-01T02:09:31.852560Z",
     "start_time": "2021-07-01T02:09:31.814483Z"
    }
   },
   "outputs": [],
   "source": [
    "def set_style(fsz=14):\n",
    "    # This sets reasonable defaults for font size for a paper\n",
    "    sns.set_context(\"paper\")    \n",
    "    # Set the font to be serif\n",
    "#     sns.set(font='serif')#, rc={'text.usetex' : True})\n",
    "    # Make the background white, and specify the specific font family\n",
    "#     sns.set_style(\"white\", {\n",
    "#         \"font.family\": \"Linux Libertine\",\n",
    "#         \"font.serif\": [\"Linux Libertine\"]\n",
    "#     })\n",
    "    plt.rc('font', family='Linux Libertine')\n",
    "    # Set tick size for axes\n",
    "    sns.set_style(\"ticks\", {\"xtick.major.size\": 3, \"ytick.major.size\": 3})\n",
    "    \n",
    "    plt.rc('font', size=fsz, family='Linux Libertine')\n",
    "    plt.rc('axes', titlesize=fsz)\n",
    "    plt.rc('axes', labelsize=fsz)\n",
    "    plt.rc('xtick', labelsize=fsz)\n",
    "    plt.rc('ytick', labelsize=fsz)\n",
    "    plt.rc('legend', fontsize=fsz)\n",
    "    plt.rc('figure', titlesize=fsz)\n",
    "    plt.rcParams[\"mathtext.fontset\"] = \"dejavuserif\"\n",
    "    plt.rcParams['hatch.linewidth'] = 2  # previous pdf hatch linewidth\n",
    "    \n",
    "def set_size(fig, width=6, height=4):\n",
    "    fig.set_size_inches(width, height)\n",
    "    plt.tight_layout()\n",
    "    \n",
    "def save_fig(fig, filename):\n",
    "    fig.savefig(VIZ_DIR + filename, dpi=300, format='pdf', bbox_inches='tight')"
   ]
  },
  {
   "cell_type": "markdown",
   "id": "4881b563",
   "metadata": {},
   "source": [
    "## Plot histogram of KL divergence"
   ]
  },
  {
   "cell_type": "code",
   "execution_count": 22,
   "id": "b9610d51",
   "metadata": {
    "ExecuteTime": {
     "end_time": "2021-07-01T02:09:31.884972Z",
     "start_time": "2021-07-01T02:09:31.855306Z"
    }
   },
   "outputs": [],
   "source": [
    "def plot_KL_divergence_histogram(df, workload_idx, color='blue', hatch='', bins=50):\n",
    "    ymin, ymax = (0.0, 0.22)\n",
    "    df = df[df['workload_idx'] == workload_idx]\n",
    "    if workload_idx == 0:\n",
    "        bins = 20\n",
    "    weights = np.ones_like(df.rho_hat) / len(df.rho_hat)\n",
    "    n, bins, patches = plt.hist(df.rho_hat, bins=bins, weights=weights, color=color, rasterized=True, hatch=hatch)\n",
    "    plt.xlabel('$I_{KL}(\\hat{w}, w)$')\n",
    "    plt.ylabel('Probability Density')\n",
    "    plt.ylim([ymin, ymax])\n",
    "    fig = plt.gcf()\n",
    "    ax = plt.gca()\n",
    "    return fig, ax"
   ]
  },
  {
   "cell_type": "code",
   "execution_count": 23,
   "id": "df55e042",
   "metadata": {
    "ExecuteTime": {
     "end_time": "2021-07-01T02:09:31.910857Z",
     "start_time": "2021-07-01T02:09:31.888657Z"
    }
   },
   "outputs": [],
   "source": [
    "def plot_overlapping_histogram(df):\n",
    "    color1, color2 = ('tab:blue', 'orange')\n",
    "    fig, ax0 = plot_KL_divergence_histogram(df, 0, color=color1, hatch='//')\n",
    "    fig, ax1 = plot_KL_divergence_histogram(df, 1, color=color2, hatch='')\n",
    "    legend_elements = [Patch(facecolor=color1, hatch='//', label=r'$w_0: (25\\%, 25\\%, 25\\%, 25\\%)$'),\n",
    "                       Patch(facecolor=color2, hatch='', label=r'$w_1: (97\\%, 1\\%, 1\\%, 1\\%)$')]   \n",
    "    l = plt.legend(handles=legend_elements, loc='right', shadow=False, \n",
    "                   bbox_to_anchor=(1., 0.75), frameon=False)\n",
    "    return fig, [ax0, ax1]"
   ]
  },
  {
   "cell_type": "code",
   "execution_count": null,
   "id": "2e999852",
   "metadata": {
    "ExecuteTime": {
     "end_time": "2021-07-01T02:09:32.794490Z",
     "start_time": "2021-07-01T02:09:31.913082Z"
    },
    "scrolled": true
   },
   "outputs": [],
   "source": [
    "set_style()\n",
    "fig, axes = plot_overlapping_histogram(df)\n",
    "set_size(fig, width=3.33 * 2, height=2 * 1.55)\n",
    "save_fig(fig, \"KL_divergence_histogram.pdf\")"
   ]
  },
  {
   "cell_type": "markdown",
   "id": "a413dca5",
   "metadata": {},
   "source": [
    "## Plot changing scatter plot"
   ]
  },
  {
   "cell_type": "code",
   "execution_count": 31,
   "id": "ee0ce4e1",
   "metadata": {
    "ExecuteTime": {
     "end_time": "2021-07-01T02:09:32.811652Z",
     "start_time": "2021-07-01T02:09:32.795941Z"
    }
   },
   "outputs": [],
   "source": [
    "def plot_three_scatterplots(df, workload_idx=11, rhos=[0, 0.25, 1, 2]):\n",
    "    fig, axes = plt.subplots(nrows=1, ncols=len(rhos), sharey=True)\n",
    "    plt.ylim(-1, 3.5)\n",
    "    axes[0].set_ylabel(r'$\\Delta_{\\hat{w}}(\\Phi_N, \\Phi_R)$')\n",
    "    df = df[df['workload_idx'] == workload_idx]\n",
    "    dfs = []\n",
    "    for rho in rhos:\n",
    "        dfs.append(df[df.robust_rho == rho])\n",
    "    \n",
    "    for i in range(len(rhos)):\n",
    "        robust_policy = 'Leveling' if dfs[i].iloc[0].robust_is_leveling_policy else 'Tiering'\n",
    "        robust_T = np.around(dfs[i].iloc[0].robust_T, 1)\n",
    "        robust_h = np.around(dfs[i].iloc[0].robust_m_filt / dfs[i].iloc[0].N, 1)\n",
    "        \n",
    "        df_pos = dfs[i][dfs[i].delta_throughput >= 0]\n",
    "        df_neg = dfs[i][dfs[i].delta_throughput < 0]\n",
    "        deltas_pos = df_pos.delta_throughput\n",
    "        rho_hats_pos = df_pos.rho_hat\n",
    "        deltas_neg = df_neg.delta_throughput\n",
    "        rho_hats_neg = df_neg.rho_hat\n",
    "        axes[i].scatter(rho_hats_pos, deltas_pos, s=5, color='tab:green', rasterized=True)\n",
    "        axes[i].scatter(rho_hats_neg, deltas_neg, s=5, color='tab:gray', rasterized=True)\n",
    "        axes[i].axhline(y=0, color='k', linestyle='--')\n",
    "        axes[i].set_xlabel(r'$I_{KL}(\\hat{w}, w_{' + str(workload_idx) + '})$')\n",
    "        axes[i].set_title(r'$\\rho:${}'.format(rhos[i]))\n",
    "        rect = mpatches.Rectangle((-1, 0), 6, 4, linewidth=1, color='tab:green', fill=True, alpha=0.20)\n",
    "        axes[i].add_patch(rect)\n",
    "        axes[i].text(0, 2, f'Robust Tuning\\n$\\pi$:  {robust_policy}\\nT:  {robust_T}\\nh:  {robust_h}')\n",
    "\n",
    "    wl = eval(df['w'].iloc[0])\n",
    "    wl = [wl['z0'], wl['z1'], wl['q'], wl['w']]\n",
    "    wl_str = f'({wl[0]:.0%}, {wl[1]:.0%}, {wl[2]:.0%}, {wl[3]:.0%})'\n",
    "    axes[0].text(0, 1.5, '$w_{' + str(workload_idx) + '}$ = ' + wl_str)\n",
    "    return fig, axes "
   ]
  },
  {
   "cell_type": "code",
   "execution_count": 36,
   "id": "6e72ced5",
   "metadata": {
    "ExecuteTime": {
     "end_time": "2021-07-01T02:09:34.176824Z",
     "start_time": "2021-07-01T02:09:32.813096Z"
    },
    "scrolled": true
   },
   "outputs": [
    {
     "data": {
      "image/png": "[encoded data removed]",
      "text/plain": [
       "<Figure size 1008x288 with 4 Axes>"
      ]
     },
     "metadata": {},
     "output_type": "display_data"
    }
   ],
   "source": [
    "set_style(fsz=14)\n",
    "fig, axes = plot_three_scatterplots(df, workload_idx=11)\n",
    "set_size(fig, width=2*7, height=2*(2))\n",
    "save_fig(fig, \"scatterplot_evolution_rho.pdf\")"
   ]
  },
  {
   "cell_type": "code",
   "execution_count": null,
   "id": "3cf2bd90",
   "metadata": {},
   "outputs": [],
   "source": [
    "# for wl_idx in range(18):\n",
    "#     fig, axes = plot_three_scatterplots(df, workload_idx=wl_idx)\n",
    "#     set_size(fig, width=2*7, height=2*(2.33))\n",
    "#     save_fig(fig, f'scatterplot_evolution_rho_wl{wl_idx}_1e12.pdf')"
   ]
  },
  {
   "cell_type": "markdown",
   "id": "bd3e60e8",
   "metadata": {},
   "source": [
    "## Rho vs Rho hat"
   ]
  },
  {
   "cell_type": "code",
   "execution_count": 37,
   "id": "621a1346",
   "metadata": {
    "ExecuteTime": {
     "end_time": "2021-07-01T02:09:34.191985Z",
     "start_time": "2021-07-01T02:09:34.178348Z"
    }
   },
   "outputs": [],
   "source": [
    "def plot_rho_vs_rho_hat(df, workload_idx):\n",
    "    df = df[df.workload_idx == workload_idx]\n",
    "    x1 = np.arange(df['robust_rho'].min(), df['robust_rho'].max(), 0.75)\n",
    "    y1 = np.arange(df['rho_hat'].min(), df['rho_hat'].max(), 0.75)\n",
    "    x2, y2 = np.meshgrid(x1, y1)\n",
    "    \n",
    "    z2 = scipy.interpolate.griddata((df['robust_rho'], df['rho_hat']), df['delta_throughput'], (x2, y2),\n",
    "                                   method='linear')\n",
    "    h = plt.contourf(x1, y1, z2, 10, cmap='RdGy')\n",
    "    cbar = plt.colorbar()\n",
    "    cbar.ax.get_yaxis().labelpad = 20\n",
    "    cbar.set_label('Delta Throughput', rotation=270)\n",
    "    plt.xlabel(r'$\\rho$')\n",
    "    plt.ylabel(r'$I_{KL}(\\hat{w}, w)$')\n",
    "    plt.title(r'Workload Idx:{}'.format(workload_idx))\n",
    "    ax = plt.gca()\n",
    "    fig = plt.gcf()\n",
    "    return fig, ax"
   ]
  },
  {
   "cell_type": "code",
   "execution_count": 38,
   "id": "7b1fd59a",
   "metadata": {
    "ExecuteTime": {
     "end_time": "2021-07-01T03:15:44.639559Z",
     "start_time": "2021-07-01T03:15:44.596360Z"
    }
   },
   "outputs": [],
   "source": [
    "def plot_rho_vs_rho_hat_grid(df, workloads=[5,7,11,12]):\n",
    "    workloads = np.array(workloads).reshape((2,2))\n",
    "    fig, axes = plt.subplots(nrows=2, ncols=2, sharex=True, sharey=True)\n",
    "    for i in range(2):\n",
    "        for j in range(2):\n",
    "            plt.sca(axes[i, j])\n",
    "            df0 = df[df.workload_idx == workloads[i][j]]\n",
    "            w = eval(df[df.workload_idx == workloads[i][j]].iloc[0].w)\n",
    "            w = [int(x*100) for x in w.values()]\n",
    "            \n",
    "            x1 = np.arange(0, 3.5, 0.5)\n",
    "            y1 = np.arange(0, 3.5, 0.5)\n",
    "            x2, y2 = np.meshgrid(x1, y1)\n",
    "            z2 = scipy.interpolate.griddata((df0['robust_rho'], df0['rho_hat']), df0['delta_throughput'],\n",
    "                                           (x2, y2), method='nearest')\n",
    "            h = plt.contourf(x1, y1, z2, 10, cmap='RdYlGn')\n",
    "            for c in h.collections:\n",
    "                c.set_rasterized(True)\n",
    "            cbar = plt.colorbar()\n",
    "            cbar.ax.get_yaxis().labelpad = 10\n",
    "            if j == 1:\n",
    "                cbar.set_label('Norm. Delta Throuhgput: $\\Delta_(\\Phi_N, \\Phi_R)$', rotation=270)\n",
    "            if i == 1:\n",
    "                plt.xlabel(r'$\\rho$')\n",
    "            if j == 0:\n",
    "                plt.ylabel(r'$I_{KL}(\\hat{w}, w)$')\n",
    "            plt.title(r'$w$: ({}%, {}%, {}%, {}%)'.format(w[0], w[1], w[2], w[3]))\n",
    "    return fig, axes        "
   ]
  },
  {
   "cell_type": "code",
   "execution_count": 39,
   "id": "95ca7509",
   "metadata": {
    "ExecuteTime": {
     "end_time": "2021-07-01T03:15:44.639559Z",
     "start_time": "2021-07-01T03:15:44.596360Z"
    }
   },
   "outputs": [],
   "source": [
    "def plot_rho_vs_rho_hat_row(df, workloads=[7,11]):\n",
    "    fig, axes = plt.subplots(nrows=1, ncols=2, sharex=True, sharey=True)\n",
    "    for idx in range(2):\n",
    "        plt.sca(axes[idx])\n",
    "        df0 = df[df.workload_idx == workloads[idx]]\n",
    "        w = eval(df[df.workload_idx == workloads[idx]].iloc[0].w)\n",
    "        w = [int(x*100) for x in w.values()]\n",
    "\n",
    "        x1 = np.arange(0, 3.5, 0.5)\n",
    "        y1 = np.arange(0, 3.5, 0.5)\n",
    "        x2, y2 = np.meshgrid(x1, y1)\n",
    "        z2 = scipy.interpolate.griddata((df0['robust_rho'], df0['rho_hat']), df0['delta_throughput'],\n",
    "                                       (x2, y2), method='nearest')\n",
    "        h = plt.contourf(x1, y1, z2, 10, cmap='viridis')\n",
    "        for c in h.collections:\n",
    "            c.set_rasterized(True)\n",
    "        cbar = plt.colorbar()\n",
    "        cbar.ax.get_yaxis().labelpad = 10\n",
    "        plt.title(f'$w_{{{workloads[idx]}}}$: ' + r'({}%, {}%, {}%, {}%)'.format(w[0], w[1], w[2], w[3]))\n",
    "    fig.supxlabel(r'$\\rho$', y=0.1)\n",
    "    fig.supylabel(r'$I_{KL}(\\hat{w}, w)$', x=0.05)\n",
    "    cbar.set_label('$\\Delta_{\\hat{w}}(\\Phi_N, \\Phi_R)$', rotation=270, labelpad=30)\n",
    "    return fig, axes        "
   ]
  },
  {
   "cell_type": "code",
   "execution_count": 62,
   "id": "c9c847ab",
   "metadata": {
    "ExecuteTime": {
     "end_time": "2021-07-01T03:15:52.393866Z",
     "start_time": "2021-07-01T03:15:50.243326Z"
    },
    "scrolled": true
   },
   "outputs": [
    {
     "data": {
      "image/png": "[encoded data removed]",
      "text/plain": [
       "<Figure size 959.04x478.08 with 4 Axes>"
      ]
     },
     "metadata": {},
     "output_type": "display_data"
    }
   ],
   "source": [
    "set_style(fsz=26)\n",
    "fig, axes = plot_rho_vs_rho_hat_row(df, [7,11])\n",
    "set_size(fig, width=4*3.33, height=4*1.66)\n",
    "save_fig(fig, \"rho_vs_rho_hat.pdf\")"
   ]
  },
  {
   "cell_type": "markdown",
   "id": "7e3945c6",
   "metadata": {},
   "source": [
    "## Delta Throughput evolution with rho"
   ]
  },
  {
   "cell_type": "code",
   "execution_count": 51,
   "id": "614573d5",
   "metadata": {
    "ExecuteTime": {
     "end_time": "2021-07-01T02:13:28.525256Z",
     "start_time": "2021-07-01T02:13:28.481386Z"
    }
   },
   "outputs": [],
   "source": [
    "def plot_delta_throughput_with_rho(df):\n",
    "    uniforms = [0]\n",
    "    unimodals = [1,2,3,4]\n",
    "    bimodals = [5,6,7,8,9,10]\n",
    "    trimodals = [11,12,13,14]\n",
    "    \n",
    "    g = sns.lineplot(x='robust_rho', y='delta_throughput', label=\"Unimodals\", marker=\"d\", markersize=10,\n",
    "                     color='tab:blue', data=df[df.workload_idx.isin(unimodals)])\n",
    "    g = sns.lineplot(x='robust_rho', y='delta_throughput', label=\"Bimodals\", marker=\"X\", markersize=10,\n",
    "                     color='tab:green', data=df[df.workload_idx.isin(bimodals)])\n",
    "    g = sns.lineplot(x='robust_rho', y='delta_throughput', label=\"Trimodals\", marker=\"o\", markersize=10,\n",
    "                     color='tab:orange', data=df[df.workload_idx.isin(trimodals)])\n",
    "    g = sns.lineplot(x='robust_rho', y='delta_throughput', label=\"Uniform\", marker=\"P\", markersize=10,\n",
    "                     color='tab:red', data=df[df.workload_idx.isin(uniforms)])\n",
    "    \n",
    "        \n",
    "    l = g.legend(loc='right',\n",
    "                 shadow=False,\n",
    "                 frameon=True,\n",
    "                 fancybox=False,\n",
    "                 framealpha=1,\n",
    "                 bbox_to_anchor=(1,0.23), ncol=2)\n",
    "    \n",
    "    plt.xlabel(r'$\\rho}$')\n",
    "    plt.ylabel(r'$\\Delta_{\\hat{w}}(\\Phi_N, \\Phi_R)$')\n",
    "#     plt.ylim([-0.1, 1.8])\n",
    "    plt.xlim([0, 3.5])\n",
    "    fig = plt.gcf()\n",
    "    ax = plt.gca()\n",
    "    return fig, ax"
   ]
  },
  {
   "cell_type": "code",
   "execution_count": 63,
   "id": "e7ee6d26",
   "metadata": {
    "ExecuteTime": {
     "end_time": "2021-07-01T02:13:48.611385Z",
     "start_time": "2021-07-01T02:13:28.872420Z"
    }
   },
   "outputs": [
    {
     "data": {
      "image/png": "[encoded data removed]",
      "text/plain": [
       "<Figure size 479.52x216 with 1 Axes>"
      ]
     },
     "metadata": {},
     "output_type": "display_data"
    }
   ],
   "source": [
    "set_style()\n",
    "fig, ax = plot_delta_throughput_with_rho(df)\n",
    "set_size(fig, width=2*3.33, height=2*1.5)\n",
    "save_fig(fig, \"delta_throughput_workload_type.pdf\")"
   ]
  },
  {
   "cell_type": "code",
   "execution_count": 53,
   "id": "84286f06",
   "metadata": {
    "ExecuteTime": {
     "end_time": "2021-07-01T02:11:14.917092Z",
     "start_time": "2021-07-01T02:11:14.875668Z"
    }
   },
   "outputs": [],
   "source": [
    "def plot_throughput_range_evolution(df):\n",
    "    df = df.copy()\n",
    "    df['nominal_max_throughput'] = df['nominal_throughput']\n",
    "    df['nominal_min_throughput'] = df['nominal_throughput']\n",
    "    df['robust_max_throughput'] = df['robust_throughput']\n",
    "    df['robust_min_throughput'] = df['robust_throughput']\n",
    "    df = df.groupby(['workload_idx', 'robust_rho']).agg({'nominal_max_throughput':'max', \n",
    "                                                             'nominal_min_throughput': 'min',\n",
    "                                                             'robust_max_throughput':'max', \n",
    "                                                             'robust_min_throughput': 'min'})\n",
    "    df = df.reset_index()\n",
    "    df['nominal_range'] = df['nominal_max_throughput'] - df['nominal_min_throughput']\n",
    "    df['robust_range'] = df['robust_max_throughput'] - df['robust_min_throughput']\n",
    "    g = sns.lineplot(x='robust_rho', y='nominal_range', color='tab:gray', marker=\"*\", markersize=12,\n",
    "                     label='Nominal', data=df)\n",
    "    g = sns.lineplot(x='robust_rho', y='robust_range', color='tab:green', marker=\"o\", markersize=7.5,\n",
    "                     label='Robust', data=df)\n",
    "    l = g.legend(shadow=False, frameon=False, bbox_to_anchor=(1.05, 0.5))\n",
    "    \n",
    "    plt.title(' ')\n",
    "    plt.xlabel(r'$\\rho}$')\n",
    "    plt.ylabel(r'$\\Theta_{\\mathcal{B}}(\\Phi)$')\n",
    "    fig = plt.gcf()\n",
    "    ax = plt.gca()\n",
    "    return fig, ax"
   ]
  },
  {
   "cell_type": "code",
   "execution_count": 54,
   "id": "88b432dd",
   "metadata": {
    "ExecuteTime": {
     "end_time": "2021-07-01T02:18:14.833693Z",
     "start_time": "2021-07-01T02:18:13.812355Z"
    }
   },
   "outputs": [
    {
     "data": {
      "image/png": "[encoded data removed]",
      "text/plain": [
       "<Figure size 252x245.52 with 1 Axes>"
      ]
     },
     "metadata": {},
     "output_type": "display_data"
    }
   ],
   "source": [
    "set_style()\n",
    "fig, ax = plot_throughput_range_evolution(df)\n",
    "set_size(fig, width=2*1.75, height=2*1.705)\n",
    "save_fig(fig, 'throughput_range_evolution.pdf')"
   ]
  },
  {
   "cell_type": "markdown",
   "id": "a95691d1",
   "metadata": {},
   "source": [
    "### Histogram of throughputs"
   ]
  },
  {
   "cell_type": "code",
   "execution_count": 60,
   "id": "3bc36493",
   "metadata": {
    "ExecuteTime": {
     "end_time": "2021-07-01T04:14:17.681164Z",
     "start_time": "2021-07-01T04:14:17.625618Z"
    }
   },
   "outputs": [],
   "source": [
    "def plot_overlapping_hist(df, workload_idx=11, rhos=[0, 0.25, 1, 2], bins=25):\n",
    "    hist_range = (0, 1.5)\n",
    "    wl_txt = str(workload_idx)\n",
    "    fig, axes = plt.subplots(nrows=1, ncols=len(rhos), sharey=True)\n",
    "    axes[0].set_ylabel(r'Delta Throughput')\n",
    "    df = df[df['workload_idx'] == workload_idx]\n",
    "    dfs = []\n",
    "    for rho in rhos:\n",
    "        dfs.append(df[df.robust_rho == rho])\n",
    "        \n",
    "    for i in range(len(rhos)):\n",
    "        robust_policy = 'Leveling' if dfs[i].iloc[0].robust_is_leveling_policy else 'Tiering'\n",
    "        robust_T = np.around(dfs[i].iloc[0].robust_T, 1)\n",
    "        robust_h = np.around(dfs[i].iloc[0].robust_m_filt / dfs[i].iloc[0].N, 1)\n",
    "        \n",
    "        nominal_policy = 'Leveling' if dfs[i].iloc[0].nominal_is_leveling_policy else 'Tiering'\n",
    "        nominal_T = np.around(dfs[i].iloc[0].nominal_T, 1)\n",
    "        nominal_h = np.around(dfs[i].iloc[0].nominal_m_filt / dfs[i].iloc[0].N, 1)\n",
    "        \n",
    "        weights = np.ones_like(dfs[i]['nominal_throughput']) / len(dfs[i]['nominal_throughput'])\n",
    "        axes[i].hist(dfs[i]['nominal_throughput'], weights=weights, bins=bins, alpha=1, \n",
    "                     color='tab:gray', range=hist_range)\n",
    "        axes[i].hist(dfs[i]['robust_throughput'], weights=weights, bins=bins, alpha=0.8, \n",
    "                     color='tab:green', range=hist_range)\n",
    "        axes[i].set_ylim(0, 0.4)\n",
    "            \n",
    "        \n",
    "        axes[i].set_xlabel(r'$1$ / $C(\\hat{w}, \\Phi)$')\n",
    "        if i == 0:\n",
    "            axes[i].set_ylabel(r'Probability Density')\n",
    "        axes[i].set_title(r'$\\rho:${}'.format(rhos[i]))\n",
    "        axes[i].add_patch(mpatches.Rectangle((0.38, 0.58), 0.5, 0.3,\n",
    "                                             linewidth=1,\n",
    "                                             color='tab:green',\n",
    "                                             fill=True,\n",
    "                                             alpha=0.2,\n",
    "                                             transform=axes[i].transAxes))\n",
    "        axes[i].text(0.405, 0.605, f'Robust\\n$\\pi$:  {robust_policy}\\nT:  {robust_T}\\nh:  {robust_h}', transform=axes[i].transAxes)\n",
    "        \n",
    "        if i == 0:\n",
    "            axes[i].add_patch(mpatches.Rectangle((0.38, 0.16), 0.5, 0.3,\n",
    "                                                 linewidth=1,\n",
    "                                                 color='tab:gray',\n",
    "                                                 fill=True,\n",
    "                                                 alpha=0.2,\n",
    "                                                 transform=axes[i].transAxes))\n",
    "            axes[i].text(0.405, 0.185, f'Nominal\\n$\\pi$:  {nominal_policy}\\nT:  {nominal_T}\\nh:  {nominal_h}', transform=axes[i].transAxes)\n",
    "            \n",
    "    return fig, ax"
   ]
  },
  {
   "cell_type": "code",
   "execution_count": 61,
   "id": "6707dbc9",
   "metadata": {
    "ExecuteTime": {
     "end_time": "2021-07-01T04:14:19.473430Z",
     "start_time": "2021-07-01T04:14:18.370490Z"
    },
    "scrolled": false
   },
   "outputs": [
    {
     "data": {
      "image/png": "[encoded data removed]",
      "text/plain": [
       "<Figure size 756x252 with 4 Axes>"
      ]
     },
     "metadata": {},
     "output_type": "display_data"
    }
   ],
   "source": [
    "set_style()\n",
    "fig, ax = plot_overlapping_hist(df, workload_idx=11)\n",
    "set_size(fig, width=2*5.25, height=2*1.75)\n",
    "save_fig(fig, 'overlapping_histogram.pdf')"
   ]
  },
  {
   "cell_type": "code",
   "execution_count": null,
   "id": "b856e72d",
   "metadata": {
    "scrolled": true
   },
   "outputs": [],
   "source": [
    "# for wl_idx in range(18):\n",
    "#     set_style()\n",
    "#     fig, ax = plot_overlapping_hist(df, workload_idx=wl_idx)\n",
    "#     set_size(fig, width=2*5.25, height=2*1.75)\n",
    "#     save_fig(fig, f'overlapping_histogram_wl{wl_idx}_1e12.pdf') "
   ]
  },
  {
   "cell_type": "code",
   "execution_count": null,
   "id": "e3e7adf7",
   "metadata": {},
   "outputs": [],
   "source": []
  }
 ],
 "metadata": {
  "kernelspec": {
   "display_name": "Python 3 (ipykernel)",
   "language": "python",
   "name": "python3"
  },
  "language_info": {
   "codemirror_mode": {
    "name": "ipython",
    "version": 3
   },
   "file_extension": ".py",
   "mimetype": "text/x-python",
   "name": "python",
   "nbconvert_exporter": "python",
   "pygments_lexer": "ipython3",
   "version": "3.8.11"
  },
  "toc": {
   "base_numbering": 1,
   "nav_menu": {},
   "number_sections": true,
   "sideBar": true,
   "skip_h1_title": false,
   "title_cell": "Table of Contents",
   "title_sidebar": "Contents",
   "toc_cell": false,
   "toc_position": {},
   "toc_section_display": true,
   "toc_window_display": false
  }
 },
 "nbformat": 4,
 "nbformat_minor": 5
}
